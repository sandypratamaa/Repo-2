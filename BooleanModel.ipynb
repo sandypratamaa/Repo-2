{
  "cells": [
    {
      "cell_type": "markdown",
      "id": "93613f61-b897-46de-9afa-428e9728438a",
      "metadata": {
        "id": "93613f61-b897-46de-9afa-428e9728438a"
      },
      "source": [
        "<img src=\"data/1_1FMoK_HWvk1IBaMelUXibw.webp\" style=\"height:300px\" />"
      ]
    },
    {
      "cell_type": "code",
      "source": [
        "import nltk\n",
        "nltk.download('stopwords')\n",
        "\n",
        "from nltk.corpus import stopwords\n",
        "from nltk.stem import WordNetLemmatizer, PorterStemmer\n",
        "from nltk.tokenize import sent_tokenize, word_tokenize\n",
        "import glob\n",
        "import re\n",
        "import os\n",
        "import numpy as np\n",
        "import sys\n",
        "\n",
        "# Set stopwords\n",
        "Stopwords = set(stopwords.words('english'))\n"
      ],
      "metadata": {
        "colab": {
          "base_uri": "https://localhost:8080/"
        },
        "id": "h-mz2WWUb10j",
        "outputId": "f903f9b1-9162-46d5-a415-30f5fcb3126b"
      },
      "id": "h-mz2WWUb10j",
      "execution_count": null,
      "outputs": [
        {
          "output_type": "stream",
          "name": "stderr",
          "text": [
            "[nltk_data] Downloading package stopwords to /root/nltk_data...\n",
            "[nltk_data]   Unzipping corpora/stopwords.zip.\n"
          ]
        }
      ]
    },
    {
      "cell_type": "code",
      "source": [],
      "metadata": {
        "id": "JwEqzoE7b05v"
      },
      "id": "JwEqzoE7b05v",
      "execution_count": null,
      "outputs": []
    },
    {
      "cell_type": "markdown",
      "id": "47e13e23-7240-4a95-81c4-864f003c0854",
      "metadata": {
        "id": "47e13e23-7240-4a95-81c4-864f003c0854"
      },
      "source": [
        "Implementing helper functions"
      ]
    },
    {
      "cell_type": "code",
      "execution_count": null,
      "id": "aa0b41d0-8d2c-4235-b9ef-5fd8aeb1da27",
      "metadata": {
        "tags": [],
        "id": "aa0b41d0-8d2c-4235-b9ef-5fd8aeb1da27"
      },
      "outputs": [],
      "source": [
        "def finding_all_unique_words_and_freq(words):\n",
        "    words_unique = []\n",
        "    word_freq = {}\n",
        "    for word in words:\n",
        "        if word not in words_unique:\n",
        "            words_unique.append(word)\n",
        "    for word in words_unique:\n",
        "        word_freq[word] = words.count(word)\n",
        "    return word_freq\n",
        "def finding_freq_of_word_in_doc(word,words):\n",
        "    freq = words.count(word)\n",
        "\n",
        "def remove_special_characters(text):\n",
        "    regex = re.compile('[^a-zA-Z0-9\\s]')\n",
        "    text_returned = re.sub(regex,'',text)\n",
        "    return text_returned"
      ]
    },
    {
      "cell_type": "markdown",
      "id": "b2f7584e-7a8e-4824-a547-0753f8e31cf4",
      "metadata": {
        "id": "b2f7584e-7a8e-4824-a547-0753f8e31cf4"
      },
      "source": [
        "Finding the set of unique words from all documents of the data set"
      ]
    },
    {
      "cell_type": "code",
      "execution_count": null,
      "id": "a355cc37-4092-430a-8ae8-6f2625b56acb",
      "metadata": {
        "tags": [],
        "id": "a355cc37-4092-430a-8ae8-6f2625b56acb"
      },
      "outputs": [],
      "source": [
        "all_words = []\n",
        "dict_global = {}\n",
        "file_folder = 'data/*'\n",
        "idx = 1\n",
        "files_with_index = {}\n",
        "for file in glob.glob(file_folder):\n",
        "    print(file)\n",
        "    fname = file\n",
        "    file = open(file , \"r\")\n",
        "    text = file.read()\n",
        "    text = remove_special_characters(text)\n",
        "    text = re.sub(re.compile('\\d'),'',text)\n",
        "    sentences = sent_tokenize(text)\n",
        "    words = word_tokenize(text)\n",
        "    words = [word for word in words if len(words)>1]\n",
        "    words = [word.lower() for word in words]\n",
        "    words = [word for word in words if word not in Stopwords]\n",
        "    dict_global.update(finding_all_unique_words_and_freq(words))\n",
        "    files_with_index[idx] = os.path.basename(fname)\n",
        "    idx = idx + 1\n",
        "\n",
        "unique_words_all = set(dict_global.keys())"
      ]
    },
    {
      "cell_type": "markdown",
      "id": "a6ebae2f-46dd-4e54-ad45-f21382a01cea",
      "metadata": {
        "id": "a6ebae2f-46dd-4e54-ad45-f21382a01cea"
      },
      "source": [
        "Defining the linked list"
      ]
    },
    {
      "cell_type": "code",
      "execution_count": null,
      "id": "3ba2475f-1013-4cbc-b9b7-007766d893a6",
      "metadata": {
        "tags": [],
        "id": "3ba2475f-1013-4cbc-b9b7-007766d893a6"
      },
      "outputs": [],
      "source": [
        "class Node:\n",
        "    def __init__(self ,docId, freq = None):\n",
        "        self.freq = freq\n",
        "        self.doc = docId\n",
        "        self.nextval = None\n",
        "\n",
        "class SlinkedList:\n",
        "    def __init__(self ,head = None):\n",
        "        self.head = head"
      ]
    },
    {
      "cell_type": "markdown",
      "id": "c5f8513f-75df-4277-a684-a91c551ea399",
      "metadata": {
        "id": "c5f8513f-75df-4277-a684-a91c551ea399"
      },
      "source": [
        "Making a linkedlist for each word and storing all the nodes (containing the file name and frequency of the respective word ) in the linkedlist."
      ]
    },
    {
      "cell_type": "code",
      "execution_count": null,
      "id": "aeaea509-d82e-4679-bbfd-93d65b8d8c36",
      "metadata": {
        "tags": [],
        "id": "aeaea509-d82e-4679-bbfd-93d65b8d8c36"
      },
      "outputs": [],
      "source": [
        "linked_list_data = {}\n",
        "for word in unique_words_all:\n",
        "    linked_list_data[word] = SlinkedList()\n",
        "    linked_list_data[word].head = Node(1,Node)\n",
        "word_freq_in_doc = {}\n",
        "idx = 1\n",
        "for file in glob.glob(file_folder):\n",
        "    file = open(file, \"r\")\n",
        "    text = file.read()\n",
        "    text = remove_special_characters(text)\n",
        "    text = re.sub(re.compile('\\d'),'',text)\n",
        "    sentences = sent_tokenize(text)\n",
        "    words = word_tokenize(text)\n",
        "    words = [word for word in words if len(words)>1]\n",
        "    words = [word.lower() for word in words]\n",
        "    words = [word for word in words if word not in Stopwords]\n",
        "    word_freq_in_doc = finding_all_unique_words_and_freq(words)\n",
        "    for word in word_freq_in_doc.keys():\n",
        "        linked_list = linked_list_data[word].head\n",
        "        while linked_list.nextval is not None:\n",
        "            linked_list = linked_list.nextval\n",
        "        linked_list.nextval = Node(idx ,word_freq_in_doc[word])\n",
        "    idx = idx + 1"
      ]
    },
    {
      "cell_type": "code",
      "source": [],
      "metadata": {
        "id": "kfIjOlkAhW6K"
      },
      "id": "kfIjOlkAhW6K",
      "execution_count": null,
      "outputs": []
    },
    {
      "cell_type": "markdown",
      "id": "ed32a56b-b2d7-40b2-8885-143d5a979710",
      "metadata": {
        "id": "ed32a56b-b2d7-40b2-8885-143d5a979710"
      },
      "source": [
        "Query processing and output generation"
      ]
    },
    {
      "cell_type": "code",
      "source": [
        "import nltk\n",
        "nltk.download('punkt')\n",
        "\n",
        "# Setelah mengunduh \"punkt\", Anda dapat melanjutkan dengan kode Anda seperti yang sebelumnya:\n",
        "query = input('Enter your query:')\n",
        "query = word_tokenize(query)\n",
        "connecting_words = []\n",
        "cnt = 1\n",
        "different_words = []\n",
        "bitwise_op = []\n",
        "for word in query:\n",
        "    if word.lower() != \"and\" and word.lower() != \"or\" and word.lower() != \"not\":\n",
        "        different_words.append(word.lower())\n",
        "    else:\n",
        "        connecting_words.append(word.lower())\n",
        "print(connecting_words)\n",
        "total_files = len(files_with_index)\n",
        "zeroes_and_ones = []\n",
        "zeroes_and_ones_of_all_words = []\n",
        "for word in different_words:\n",
        "    if word.lower() in unique_words_all:\n",
        "        zeroes_and_ones = [0] * total_files\n",
        "        linkedlist = linked_list_data[word].head\n",
        "        print(word)\n",
        "        while linkedlist.nextval is not None:\n",
        "            zeroes_and_ones[linkedlist.nextval.doc - 1] = 1\n",
        "            linkedlist = linkedlist.nextval\n",
        "        zeroes_and_ones_of_all_words.append(zeroes_and_ones)\n",
        "    else:\n",
        "        print(word, \"not found\")\n",
        "        sys.exit()\n",
        "print(zeroes_and_ones_of_all_words)\n",
        "for word in connecting_words:\n",
        "    word_list1 = zeroes_and_ones_of_all_words[0]\n",
        "    word_list2 = zeroes_and_ones_of_all_words[1]\n",
        "    if word == \"and\":\n",
        "        bitwise_op = [w1 & w2 for (w1, w2) in zip(word_list1, word_list2)]\n",
        "        zeroes_and_ones_of_all_words.remove(word_list1)\n",
        "        zeroes_and_ones_of_all_words.remove(word_list2)\n",
        "        zeroes_and_ones_of_all_words.insert(0, bitwise_op)\n",
        "    elif word == \"or\":\n",
        "        bitwise_op = [w1 | w2 for (w1, w2) in zip(word_list1, word_list2)]\n",
        "        zeroes_and_ones_of_all_words.remove(word_list1)\n",
        "        zeroes_and_ones_of_all_words.remove(word_list2)\n",
        "        zeroes_and_ones_of_all_words.insert(0, bitwise_op)\n",
        "    elif word == \"not\":\n",
        "        bitwise_op = [not w1 for w1 in word_list2]\n",
        "        bitwise_op = [int(b == True) for b in bitwise_op]\n",
        "        zeroes_and_ones_of_all_words.remove(word_list2)\n",
        "        zeroes_and_ones_of_all_words.remove(word_list1)\n",
        "        bitwise_op = [w1 & w2 for (w1, w2) in zip(word_list1, bitwise_op)]\n",
        "zeroes_and_ones_of_all_words.insert(0, bitwise_op)\n",
        "\n",
        "files = []\n",
        "# print(zeroes_and_ones_of_all_words)\n",
        "lis = zeroes_and_ones_of_all_words[0]\n",
        "cnt = 1\n",
        "for index in lis:\n",
        "    if index == 1:\n",
        "        files.append(files_with_index[cnt])\n",
        "    cnt = cnt + 1\n",
        "\n",
        "print(files)\n"
      ],
      "metadata": {
        "colab": {
          "base_uri": "https://localhost:8080/",
          "height": 245
        },
        "id": "jxcNqo-mhYbS",
        "outputId": "6f1087ad-2f6e-43f7-9690-69416553a6ae"
      },
      "id": "jxcNqo-mhYbS",
      "execution_count": null,
      "outputs": [
        {
          "output_type": "stream",
          "name": "stderr",
          "text": [
            "[nltk_data] Downloading package punkt to /root/nltk_data...\n",
            "[nltk_data]   Unzipping tokenizers/punkt.zip.\n"
          ]
        },
        {
          "output_type": "stream",
          "name": "stdout",
          "text": [
            "Enter your query:00100\n",
            "[]\n",
            "00100 not found\n"
          ]
        },
        {
          "output_type": "error",
          "ename": "SystemExit",
          "evalue": "ignored",
          "traceback": [
            "An exception has occurred, use %tb to see the full traceback.\n",
            "\u001b[0;31mSystemExit\u001b[0m\n"
          ]
        },
        {
          "output_type": "stream",
          "name": "stderr",
          "text": [
            "/usr/local/lib/python3.10/dist-packages/IPython/core/interactiveshell.py:3561: UserWarning: To exit: use 'exit', 'quit', or Ctrl-D.\n",
            "  warn(\"To exit: use 'exit', 'quit', or Ctrl-D.\", stacklevel=1)\n"
          ]
        }
      ]
    },
    {
      "cell_type": "code",
      "execution_count": null,
      "id": "b28590aa-7b5c-407e-8420-ae808e0e4af5",
      "metadata": {
        "id": "b28590aa-7b5c-407e-8420-ae808e0e4af5"
      },
      "outputs": [],
      "source": []
    }
  ],
  "metadata": {
    "kernelspec": {
      "display_name": "Python 3 (ipykernel)",
      "language": "python",
      "name": "python3"
    },
    "language_info": {
      "codemirror_mode": {
        "name": "ipython",
        "version": 3
      },
      "file_extension": ".py",
      "mimetype": "text/x-python",
      "name": "python",
      "nbconvert_exporter": "python",
      "pygments_lexer": "ipython3",
      "version": "3.10.10"
    },
    "colab": {
      "provenance": []
    }
  },
  "nbformat": 4,
  "nbformat_minor": 5
}